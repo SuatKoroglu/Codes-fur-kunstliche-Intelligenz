{
  "nbformat": 4,
  "nbformat_minor": 0,
  "metadata": {
    "colab": {
      "provenance": []
    },
    "kernelspec": {
      "name": "python3",
      "display_name": "Python 3"
    },
    "language_info": {
      "name": "python"
    }
  },
  "cells": [
    {
      "cell_type": "markdown",
      "source": [
        "First, let's load the MNIST dataset:"
      ],
      "metadata": {
        "id": "egbJ5uGZfo4V"
      }
    },
    {
      "cell_type": "code",
      "execution_count": null,
      "metadata": {
        "colab": {
          "base_uri": "https://localhost:8080/"
        },
        "id": "QzEbMo8sfkRI",
        "outputId": "bf57f6d5-bca8-46c0-bde5-8c4d9a5202d5"
      },
      "outputs": [
        {
          "output_type": "stream",
          "name": "stdout",
          "text": [
            "Downloading data from https://storage.googleapis.com/tensorflow/tf-keras-datasets/mnist.npz\n",
            "11490434/11490434 [==============================] - 1s 0us/step\n"
          ]
        }
      ],
      "source": [
        "import tensorflow as tf\n",
        "from tensorflow import keras\n",
        "\n",
        "(X_train_full, y_train_full), (X_test, y_test) = keras.datasets.mnist.load_data()"
      ]
    },
    {
      "cell_type": "markdown",
      "source": [
        "Next, we'll preprocess the data by scaling the pixel values to be between 0 and 1:"
      ],
      "metadata": {
        "id": "_N-74IZmfrXl"
      }
    },
    {
      "cell_type": "code",
      "source": [
        "X_train_full = X_train_full / 255.0\n",
        "X_test = X_test / 255.0"
      ],
      "metadata": {
        "id": "Yt2UNYIqfs9W"
      },
      "execution_count": null,
      "outputs": []
    },
    {
      "cell_type": "markdown",
      "source": [
        "Now, we'll create a validation set by splitting off the last 5,000 images from the training set:\n",
        "\n"
      ],
      "metadata": {
        "id": "siUHk-ktfuzB"
      }
    },
    {
      "cell_type": "code",
      "source": [
        "X_valid, X_train = X_train_full[:5000], X_train_full[5000:]\n",
        "y_valid, y_train = y_train_full[:5000], y_train_full[5000:]"
      ],
      "metadata": {
        "id": "aP26bNHqfw8b"
      },
      "execution_count": null,
      "outputs": []
    },
    {
      "cell_type": "markdown",
      "source": [
        "Let's build our model now. We'll use a deep MLP with three hidden layers, each \n",
        "with 100 neurons and ReLU activation functions. We'll use dropout regularization with a rate of 0.2 to prevent overfitting, and we'll use softmax activation function in the output layer since this is a multiclass classification problem:"
      ],
      "metadata": {
        "id": "oB6nUxizfwcf"
      }
    },
    {
      "cell_type": "code",
      "source": [
        "def create_model(learning_rate=0.01):\n",
        "    model = keras.models.Sequential([\n",
        "        keras.layers.Flatten(input_shape=[28, 28]),\n",
        "        keras.layers.Dense(100, activation=\"relu\"),\n",
        "        keras.layers.Dropout(0.2),\n",
        "        keras.layers.Dense(100, activation=\"relu\"),\n",
        "        keras.layers.Dropout(0.2),\n",
        "        keras.layers.Dense(100, activation=\"relu\"),\n",
        "        keras.layers.Dropout(0.2),\n",
        "        keras.layers.Dense(10, activation=\"softmax\")\n",
        "    ])\n",
        "    optimizer = keras.optimizers.SGD(lr=learning_rate)\n",
        "    model.compile(loss=\"sparse_categorical_crossentropy\", optimizer=optimizer, metrics=[\"accuracy\"])\n",
        "    return model\n",
        "\n",
        "model = create_model()\n",
        "model.summary()"
      ],
      "metadata": {
        "colab": {
          "base_uri": "https://localhost:8080/"
        },
        "id": "1h-XyLq8gD_Z",
        "outputId": "4f5655e3-1497-4521-8245-8fa1e451d350"
      },
      "execution_count": null,
      "outputs": [
        {
          "output_type": "stream",
          "name": "stderr",
          "text": [
            "WARNING:absl:`lr` is deprecated, please use `learning_rate` instead, or use the legacy optimizer, e.g.,tf.keras.optimizers.legacy.SGD.\n"
          ]
        },
        {
          "output_type": "stream",
          "name": "stdout",
          "text": [
            "Model: \"sequential\"\n",
            "_________________________________________________________________\n",
            " Layer (type)                Output Shape              Param #   \n",
            "=================================================================\n",
            " flatten (Flatten)           (None, 784)               0         \n",
            "                                                                 \n",
            " dense (Dense)               (None, 100)               78500     \n",
            "                                                                 \n",
            " dropout (Dropout)           (None, 100)               0         \n",
            "                                                                 \n",
            " dense_1 (Dense)             (None, 100)               10100     \n",
            "                                                                 \n",
            " dropout_1 (Dropout)         (None, 100)               0         \n",
            "                                                                 \n",
            " dense_2 (Dense)             (None, 100)               10100     \n",
            "                                                                 \n",
            " dropout_2 (Dropout)         (None, 100)               0         \n",
            "                                                                 \n",
            " dense_3 (Dense)             (None, 10)                1010      \n",
            "                                                                 \n",
            "=================================================================\n",
            "Total params: 99,710\n",
            "Trainable params: 99,710\n",
            "Non-trainable params: 0\n",
            "_________________________________________________________________\n"
          ]
        }
      ]
    },
    {
      "cell_type": "markdown",
      "source": [
        "Now, let's search for the optimal learning rate using the approach presented in the book. We'll use an exponentially growing learning rate, starting at 1e-4 and ending at 1. We'll train the model for 1 epoch and plot the loss against the learning rate:"
      ],
      "metadata": {
        "id": "AjsIXYGWgLVh"
      }
    },
    {
      "cell_type": "code",
      "source": [
        "# Define a function to find the optimal learning rate\n",
        "def find_learning_rate(start_lr=1e-5, end_lr=1e-1, num_epochs=10, batch_size=32):\n",
        "    num_samples = X_train.shape[0]\n",
        "    num_batches = num_samples // batch_size\n",
        "    multiplier = (end_lr / start_lr) ** (1 / num_epochs)\n",
        "    learning_rates = start_lr * (multiplier ** np.arange(num_epochs))\n",
        "    losses = []\n",
        "    for lr in learning_rates:\n",
        "        print(f'Training model with learning rate {lr:.1e}')\n",
        "        model = create_model(learning_rate=lr)\n",
        "        history = model.fit(X_train, y_train, batch_size=batch_size, epochs=1, verbose=0)\n",
        "        losses.append(history.history['loss'][0])\n",
        "    plt.plot(learning_rates, losses)\n",
        "    plt.xscale('log')\n",
        "    plt.xlabel('Learning rate')\n",
        "    plt.ylabel('Loss')\n",
        "    plt.show()\n",
        "    return learning_rates[np.argmin(losses)]\n",
        "\n",
        "# Find the optimal learning rate\n",
        "optimal_lr = find_learning_rate()\n",
        "print(f'Optimal learning rate: {optimal_lr:.1e}')\n"
      ],
      "metadata": {
        "colab": {
          "base_uri": "https://localhost:8080/",
          "height": 819
        },
        "id": "OLx9X9j3iNOj",
        "outputId": "01abc1a3-5013-49f0-cbe8-d64bbc22a444"
      },
      "execution_count": null,
      "outputs": [
        {
          "output_type": "stream",
          "name": "stderr",
          "text": [
            "WARNING:absl:`lr` is deprecated, please use `learning_rate` instead, or use the legacy optimizer, e.g.,tf.keras.optimizers.legacy.SGD.\n"
          ]
        },
        {
          "output_type": "stream",
          "name": "stdout",
          "text": [
            "Training model with learning rate 1.0e-05\n"
          ]
        },
        {
          "output_type": "stream",
          "name": "stderr",
          "text": [
            "WARNING:absl:`lr` is deprecated, please use `learning_rate` instead, or use the legacy optimizer, e.g.,tf.keras.optimizers.legacy.SGD.\n"
          ]
        },
        {
          "output_type": "stream",
          "name": "stdout",
          "text": [
            "Training model with learning rate 2.5e-05\n"
          ]
        },
        {
          "output_type": "stream",
          "name": "stderr",
          "text": [
            "WARNING:absl:`lr` is deprecated, please use `learning_rate` instead, or use the legacy optimizer, e.g.,tf.keras.optimizers.legacy.SGD.\n"
          ]
        },
        {
          "output_type": "stream",
          "name": "stdout",
          "text": [
            "Training model with learning rate 6.3e-05\n"
          ]
        },
        {
          "output_type": "stream",
          "name": "stderr",
          "text": [
            "WARNING:absl:`lr` is deprecated, please use `learning_rate` instead, or use the legacy optimizer, e.g.,tf.keras.optimizers.legacy.SGD.\n"
          ]
        },
        {
          "output_type": "stream",
          "name": "stdout",
          "text": [
            "Training model with learning rate 1.6e-04\n"
          ]
        },
        {
          "output_type": "stream",
          "name": "stderr",
          "text": [
            "WARNING:absl:`lr` is deprecated, please use `learning_rate` instead, or use the legacy optimizer, e.g.,tf.keras.optimizers.legacy.SGD.\n"
          ]
        },
        {
          "output_type": "stream",
          "name": "stdout",
          "text": [
            "Training model with learning rate 4.0e-04\n"
          ]
        },
        {
          "output_type": "stream",
          "name": "stderr",
          "text": [
            "WARNING:absl:`lr` is deprecated, please use `learning_rate` instead, or use the legacy optimizer, e.g.,tf.keras.optimizers.legacy.SGD.\n"
          ]
        },
        {
          "output_type": "stream",
          "name": "stdout",
          "text": [
            "Training model with learning rate 1.0e-03\n"
          ]
        },
        {
          "output_type": "stream",
          "name": "stderr",
          "text": [
            "WARNING:absl:`lr` is deprecated, please use `learning_rate` instead, or use the legacy optimizer, e.g.,tf.keras.optimizers.legacy.SGD.\n"
          ]
        },
        {
          "output_type": "stream",
          "name": "stdout",
          "text": [
            "Training model with learning rate 2.5e-03\n"
          ]
        },
        {
          "output_type": "stream",
          "name": "stderr",
          "text": [
            "WARNING:absl:`lr` is deprecated, please use `learning_rate` instead, or use the legacy optimizer, e.g.,tf.keras.optimizers.legacy.SGD.\n"
          ]
        },
        {
          "output_type": "stream",
          "name": "stdout",
          "text": [
            "Training model with learning rate 6.3e-03\n"
          ]
        },
        {
          "output_type": "stream",
          "name": "stderr",
          "text": [
            "WARNING:absl:`lr` is deprecated, please use `learning_rate` instead, or use the legacy optimizer, e.g.,tf.keras.optimizers.legacy.SGD.\n"
          ]
        },
        {
          "output_type": "stream",
          "name": "stdout",
          "text": [
            "Training model with learning rate 1.6e-02\n"
          ]
        },
        {
          "output_type": "stream",
          "name": "stderr",
          "text": [
            "WARNING:absl:`lr` is deprecated, please use `learning_rate` instead, or use the legacy optimizer, e.g.,tf.keras.optimizers.legacy.SGD.\n"
          ]
        },
        {
          "output_type": "stream",
          "name": "stdout",
          "text": [
            "Training model with learning rate 4.0e-02\n"
          ]
        },
        {
          "output_type": "display_data",
          "data": {
            "text/plain": [
              "<Figure size 640x480 with 1 Axes>"
            ],
            "image/png": "[encoded data removed]"
          },
          "metadata": {}
        },
        {
          "output_type": "stream",
          "name": "stdout",
          "text": [
            "Optimal learning rate: 1.6e-02\n"
          ]
        }
      ]
    },
    {
      "cell_type": "markdown",
      "source": [
        "From the plot, it looks like the optimal learning rate is around 3e-2. Let's use this learning rate and train the model for 50 epochs, while also saving checkpoints and using early stopping:"
      ],
      "metadata": {
        "id": "PPbjWeSSjKA5"
      }
    },
    {
      "cell_type": "code",
      "source": [
        "import os\n",
        "\n",
        "checkpoint_cb = keras.callbacks.ModelCheckpoint(\"my_mnist_model.h5\", save_best_only=True)\n",
        "early_stopping_cb = keras.callbacks.EarlyStopping(patience=10, restore_best_weights=True)\n",
        "\n",
        "def train_model():\n",
        "    model = create_model(learning_rate=3e-2)\n",
        "    history = model.fit(X_train, y_train, epochs=50, validation_data=(X_valid, y_valid), callbacks=[checkpoint_cb, early_stopping_cb])\n",
        "    return history, model\n",
        "\n",
        "history, model = train_model()\n"
      ],
      "metadata": {
        "colab": {
          "base_uri": "https://localhost:8080/"
        },
        "id": "RtHTxVXIjKvq",
        "outputId": "79db8670-413e-4df4-fae5-365f3882d2ab"
      },
      "execution_count": null,
      "outputs": [
        {
          "output_type": "stream",
          "name": "stderr",
          "text": [
            "WARNING:absl:`lr` is deprecated, please use `learning_rate` instead, or use the legacy optimizer, e.g.,tf.keras.optimizers.legacy.SGD.\n"
          ]
        },
        {
          "output_type": "stream",
          "name": "stdout",
          "text": [
            "Epoch 1/50\n",
            "1719/1719 [==============================] - 7s 4ms/step - loss: 1.0277 - accuracy: 0.6615 - val_loss: 0.3744 - val_accuracy: 0.8982\n",
            "Epoch 2/50\n",
            "1719/1719 [==============================] - 7s 4ms/step - loss: 0.4638 - accuracy: 0.8599 - val_loss: 0.2656 - val_accuracy: 0.9256\n",
            "Epoch 3/50\n",
            "1719/1719 [==============================] - 6s 3ms/step - loss: 0.3599 - accuracy: 0.8927 - val_loss: 0.2126 - val_accuracy: 0.9406\n",
            "Epoch 4/50\n",
            "1719/1719 [==============================] - 7s 4ms/step - loss: 0.3059 - accuracy: 0.9110 - val_loss: 0.1833 - val_accuracy: 0.9452\n",
            "Epoch 5/50\n",
            "1719/1719 [==============================] - 6s 3ms/step - loss: 0.2690 - accuracy: 0.9202 - val_loss: 0.1630 - val_accuracy: 0.9518\n",
            "Epoch 6/50\n",
            "1719/1719 [==============================] - 7s 4ms/step - loss: 0.2462 - accuracy: 0.9286 - val_loss: 0.1471 - val_accuracy: 0.9586\n",
            "Epoch 7/50\n",
            "1719/1719 [==============================] - 6s 3ms/step - loss: 0.2200 - accuracy: 0.9354 - val_loss: 0.1344 - val_accuracy: 0.9624\n",
            "Epoch 8/50\n",
            "1719/1719 [==============================] - 7s 4ms/step - loss: 0.2074 - accuracy: 0.9383 - val_loss: 0.1233 - val_accuracy: 0.9652\n",
            "Epoch 9/50\n",
            "1719/1719 [==============================] - 6s 4ms/step - loss: 0.1945 - accuracy: 0.9431 - val_loss: 0.1201 - val_accuracy: 0.9662\n",
            "Epoch 10/50\n",
            "1719/1719 [==============================] - 7s 4ms/step - loss: 0.1817 - accuracy: 0.9469 - val_loss: 0.1151 - val_accuracy: 0.9666\n",
            "Epoch 11/50\n",
            "1719/1719 [==============================] - 6s 3ms/step - loss: 0.1721 - accuracy: 0.9487 - val_loss: 0.1053 - val_accuracy: 0.9710\n",
            "Epoch 12/50\n",
            "1719/1719 [==============================] - 7s 4ms/step - loss: 0.1622 - accuracy: 0.9513 - val_loss: 0.1064 - val_accuracy: 0.9708\n",
            "Epoch 13/50\n",
            "1719/1719 [==============================] - 6s 3ms/step - loss: 0.1566 - accuracy: 0.9526 - val_loss: 0.1023 - val_accuracy: 0.9720\n",
            "Epoch 14/50\n",
            "1719/1719 [==============================] - 7s 4ms/step - loss: 0.1484 - accuracy: 0.9556 - val_loss: 0.0988 - val_accuracy: 0.9724\n",
            "Epoch 15/50\n",
            "1719/1719 [==============================] - 6s 3ms/step - loss: 0.1438 - accuracy: 0.9578 - val_loss: 0.0953 - val_accuracy: 0.9736\n",
            "Epoch 16/50\n",
            "1719/1719 [==============================] - 7s 4ms/step - loss: 0.1358 - accuracy: 0.9595 - val_loss: 0.0965 - val_accuracy: 0.9728\n",
            "Epoch 17/50\n",
            "1719/1719 [==============================] - 6s 4ms/step - loss: 0.1338 - accuracy: 0.9593 - val_loss: 0.0946 - val_accuracy: 0.9724\n",
            "Epoch 18/50\n",
            "1719/1719 [==============================] - 7s 4ms/step - loss: 0.1277 - accuracy: 0.9629 - val_loss: 0.0917 - val_accuracy: 0.9750\n",
            "Epoch 19/50\n",
            "1719/1719 [==============================] - 6s 4ms/step - loss: 0.1245 - accuracy: 0.9627 - val_loss: 0.0916 - val_accuracy: 0.9748\n",
            "Epoch 20/50\n",
            "1719/1719 [==============================] - 7s 4ms/step - loss: 0.1217 - accuracy: 0.9631 - val_loss: 0.0874 - val_accuracy: 0.9758\n",
            "Epoch 21/50\n",
            "1719/1719 [==============================] - 7s 4ms/step - loss: 0.1147 - accuracy: 0.9652 - val_loss: 0.0864 - val_accuracy: 0.9764\n",
            "Epoch 22/50\n",
            "1719/1719 [==============================] - 6s 4ms/step - loss: 0.1122 - accuracy: 0.9665 - val_loss: 0.0843 - val_accuracy: 0.9762\n",
            "Epoch 23/50\n",
            "1719/1719 [==============================] - 7s 4ms/step - loss: 0.1091 - accuracy: 0.9677 - val_loss: 0.0832 - val_accuracy: 0.9766\n",
            "Epoch 24/50\n",
            "1719/1719 [==============================] - 6s 4ms/step - loss: 0.1069 - accuracy: 0.9676 - val_loss: 0.0838 - val_accuracy: 0.9760\n",
            "Epoch 25/50\n",
            "1719/1719 [==============================] - 7s 4ms/step - loss: 0.1035 - accuracy: 0.9681 - val_loss: 0.0825 - val_accuracy: 0.9766\n",
            "Epoch 26/50\n",
            "1719/1719 [==============================] - 6s 4ms/step - loss: 0.1015 - accuracy: 0.9697 - val_loss: 0.0811 - val_accuracy: 0.9766\n",
            "Epoch 27/50\n",
            "1719/1719 [==============================] - 7s 4ms/step - loss: 0.0999 - accuracy: 0.9694 - val_loss: 0.0800 - val_accuracy: 0.9778\n",
            "Epoch 28/50\n",
            "1719/1719 [==============================] - 6s 4ms/step - loss: 0.0949 - accuracy: 0.9711 - val_loss: 0.0800 - val_accuracy: 0.9774\n",
            "Epoch 29/50\n",
            "1719/1719 [==============================] - 7s 4ms/step - loss: 0.0929 - accuracy: 0.9716 - val_loss: 0.0797 - val_accuracy: 0.9784\n",
            "Epoch 30/50\n",
            "1719/1719 [==============================] - 6s 4ms/step - loss: 0.0931 - accuracy: 0.9717 - val_loss: 0.0805 - val_accuracy: 0.9780\n",
            "Epoch 31/50\n",
            "1719/1719 [==============================] - 7s 4ms/step - loss: 0.0890 - accuracy: 0.9727 - val_loss: 0.0773 - val_accuracy: 0.9788\n",
            "Epoch 32/50\n",
            "1719/1719 [==============================] - 6s 4ms/step - loss: 0.0889 - accuracy: 0.9729 - val_loss: 0.0772 - val_accuracy: 0.9790\n",
            "Epoch 33/50\n",
            "1719/1719 [==============================] - 7s 4ms/step - loss: 0.0843 - accuracy: 0.9744 - val_loss: 0.0738 - val_accuracy: 0.9794\n",
            "Epoch 34/50\n",
            "1719/1719 [==============================] - 6s 3ms/step - loss: 0.0865 - accuracy: 0.9731 - val_loss: 0.0770 - val_accuracy: 0.9790\n",
            "Epoch 35/50\n",
            "1719/1719 [==============================] - 7s 4ms/step - loss: 0.0810 - accuracy: 0.9752 - val_loss: 0.0765 - val_accuracy: 0.9790\n",
            "Epoch 36/50\n",
            "1719/1719 [==============================] - 7s 4ms/step - loss: 0.0789 - accuracy: 0.9762 - val_loss: 0.0748 - val_accuracy: 0.9790\n",
            "Epoch 37/50\n",
            "1719/1719 [==============================] - 7s 4ms/step - loss: 0.0800 - accuracy: 0.9757 - val_loss: 0.0744 - val_accuracy: 0.9796\n",
            "Epoch 38/50\n",
            "1719/1719 [==============================] - 6s 3ms/step - loss: 0.0792 - accuracy: 0.9759 - val_loss: 0.0733 - val_accuracy: 0.9790\n",
            "Epoch 39/50\n",
            "1719/1719 [==============================] - 7s 4ms/step - loss: 0.0744 - accuracy: 0.9774 - val_loss: 0.0736 - val_accuracy: 0.9798\n",
            "Epoch 40/50\n",
            "1719/1719 [==============================] - 6s 3ms/step - loss: 0.0746 - accuracy: 0.9767 - val_loss: 0.0768 - val_accuracy: 0.9788\n",
            "Epoch 41/50\n",
            "1719/1719 [==============================] - 7s 4ms/step - loss: 0.0741 - accuracy: 0.9765 - val_loss: 0.0745 - val_accuracy: 0.9808\n",
            "Epoch 42/50\n",
            "1719/1719 [==============================] - 6s 3ms/step - loss: 0.0744 - accuracy: 0.9772 - val_loss: 0.0734 - val_accuracy: 0.9802\n",
            "Epoch 43/50\n",
            "1719/1719 [==============================] - 7s 4ms/step - loss: 0.0692 - accuracy: 0.9781 - val_loss: 0.0723 - val_accuracy: 0.9816\n",
            "Epoch 44/50\n",
            "1719/1719 [==============================] - 6s 4ms/step - loss: 0.0701 - accuracy: 0.9780 - val_loss: 0.0728 - val_accuracy: 0.9814\n",
            "Epoch 45/50\n",
            "1719/1719 [==============================] - 7s 4ms/step - loss: 0.0670 - accuracy: 0.9795 - val_loss: 0.0714 - val_accuracy: 0.9808\n",
            "Epoch 46/50\n",
            "1719/1719 [==============================] - 6s 4ms/step - loss: 0.0669 - accuracy: 0.9797 - val_loss: 0.0730 - val_accuracy: 0.9810\n",
            "Epoch 47/50\n",
            "1719/1719 [==============================] - 6s 4ms/step - loss: 0.0660 - accuracy: 0.9792 - val_loss: 0.0702 - val_accuracy: 0.9816\n",
            "Epoch 48/50\n",
            "1719/1719 [==============================] - 6s 4ms/step - loss: 0.0655 - accuracy: 0.9795 - val_loss: 0.0721 - val_accuracy: 0.9812\n",
            "Epoch 49/50\n",
            "1719/1719 [==============================] - 7s 4ms/step - loss: 0.0624 - accuracy: 0.9800 - val_loss: 0.0728 - val_accuracy: 0.9810\n",
            "Epoch 50/50\n",
            "1719/1719 [==============================] - 7s 4ms/step - loss: 0.0646 - accuracy: 0.9795 - val_loss: 0.0721 - val_accuracy: 0.9806\n"
          ]
        }
      ]
    },
    {
      "cell_type": "markdown",
      "source": [
        "Finally, let's plot the learning curves using TensorBoard:\n"
      ],
      "metadata": {
        "id": "J0tVs7XujMEO"
      }
    },
    {
      "cell_type": "code",
      "source": [
        "%tensorboard --logdir=./my_mnist_logs"
      ],
      "metadata": {
        "colab": {
          "base_uri": "https://localhost:8080/"
        },
        "id": "mUb0VoOgjNlx",
        "outputId": "8ed89c42-1a14-472a-c8d6-51316c7cd5dd"
      },
      "execution_count": null,
      "outputs": [
        {
          "output_type": "stream",
          "name": "stderr",
          "text": [
            "UsageError: Line magic function `%tensorboard` not found.\n"
          ]
        }
      ]
    }
  ]
}