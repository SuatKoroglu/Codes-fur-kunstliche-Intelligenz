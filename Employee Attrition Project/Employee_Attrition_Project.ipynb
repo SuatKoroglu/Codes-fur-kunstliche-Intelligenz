{
  "nbformat": 4,
  "nbformat_minor": 0,
  "metadata": {
    "colab": {
      "provenance": []
    },
    "kernelspec": {
      "name": "python3",
      "display_name": "Python 3"
    },
    "language_info": {
      "name": "python"
    }
  },
  "cells": [
    {
      "cell_type": "code",
      "execution_count": 251,
      "metadata": {
        "id": "9_Lc7wKvVwvD"
      },
      "outputs": [],
      "source": [
        "import numpy as np\n",
        "import pandas as pd\n",
        "from sklearn.compose import ColumnTransformer\n",
        "from sklearn.pipeline import Pipeline\n",
        "from sklearn.preprocessing import OneHotEncoder, StandardScaler, OrdinalEncoder, LabelEncoder\n",
        "from sklearn.model_selection import train_test_split\n",
        "from sklearn.tree import DecisionTreeClassifier\n",
        "from sklearn.linear_model import LogisticRegression\n",
        "from sklearn.ensemble import RandomForestClassifier, VotingClassifier\n",
        "from sklearn.model_selection import GridSearchCV\n",
        "from xgboost import XGBClassifier\n",
        "from sklearn.metrics import accuracy_score\n",
        "from sklearn.compose import make_column_transformer\n",
        "from sklearn.pipeline import make_pipeline\n",
        "from sklearn.decomposition import PCA\n",
        "import matplotlib.pyplot as plt\n",
        "from sklearn import svm\n",
        "from sklearn.svm import SVC\n",
        "from sklearn.tree import DecisionTreeClassifier\n",
        "from sklearn.metrics import precision_score\n",
        "from sklearn.ensemble import AdaBoostClassifier\n",
        "from sklearn.neighbors import KNeighborsClassifier"
      ]
    },
    {
      "cell_type": "code",
      "source": [
        "train_data = pd.read_csv(\"/content/employee_attrition_train.csv\")\n",
        "test_data = pd.read_csv(\"/content/employee_attrition_test.csv\")"
      ],
      "metadata": {
        "id": "QA0_gFhOlqd1"
      },
      "execution_count": 212,
      "outputs": []
    },
    {
      "cell_type": "code",
      "source": [
        "train_data.info()"
      ],
      "metadata": {
        "colab": {
          "base_uri": "https://localhost:8080/"
        },
        "id": "s-l0vA1Ul0vx",
        "outputId": "b2b65f16-97f6-43ff-f292-fbf7a52564aa"
      },
      "execution_count": 213,
      "outputs": [
        {
          "output_type": "stream",
          "name": "stdout",
          "text": [
            "<class 'pandas.core.frame.DataFrame'>\n",
            "RangeIndex: 1029 entries, 0 to 1028\n",
            "Data columns (total 35 columns):\n",
            " #   Column                    Non-Null Count  Dtype  \n",
            "---  ------                    --------------  -----  \n",
            " 0   Age                       893 non-null    float64\n",
            " 1   Attrition                 1029 non-null   object \n",
            " 2   BusinessTravel            1024 non-null   object \n",
            " 3   DailyRate                 1002 non-null   float64\n",
            " 4   Department                1029 non-null   object \n",
            " 5   DistanceFromHome          934 non-null    float64\n",
            " 6   Education                 1029 non-null   int64  \n",
            " 7   EducationField            1029 non-null   object \n",
            " 8   EmployeeCount             1029 non-null   int64  \n",
            " 9   EmployeeNumber            1029 non-null   int64  \n",
            " 10  EnvironmentSatisfaction   1029 non-null   int64  \n",
            " 11  Gender                    1029 non-null   object \n",
            " 12  HourlyRate                1029 non-null   int64  \n",
            " 13  JobInvolvement            1029 non-null   int64  \n",
            " 14  JobLevel                  1029 non-null   int64  \n",
            " 15  JobRole                   1029 non-null   object \n",
            " 16  JobSatisfaction           1029 non-null   int64  \n",
            " 17  MaritalStatus             1024 non-null   object \n",
            " 18  MonthlyIncome             1029 non-null   int64  \n",
            " 19  MonthlyRate               1029 non-null   int64  \n",
            " 20  NumCompaniesWorked        1029 non-null   int64  \n",
            " 21  Over18                    1029 non-null   object \n",
            " 22  OverTime                  1029 non-null   object \n",
            " 23  PercentSalaryHike         1029 non-null   int64  \n",
            " 24  PerformanceRating         1029 non-null   int64  \n",
            " 25  RelationshipSatisfaction  1029 non-null   int64  \n",
            " 26  StandardHours             1029 non-null   int64  \n",
            " 27  StockOptionLevel          1029 non-null   int64  \n",
            " 28  TotalWorkingYears         1029 non-null   int64  \n",
            " 29  TrainingTimesLastYear     1029 non-null   int64  \n",
            " 30  WorkLifeBalance           1029 non-null   int64  \n",
            " 31  YearsAtCompany            1029 non-null   int64  \n",
            " 32  YearsInCurrentRole        1029 non-null   int64  \n",
            " 33  YearsSinceLastPromotion   1029 non-null   int64  \n",
            " 34  YearsWithCurrManager      1029 non-null   int64  \n",
            "dtypes: float64(3), int64(23), object(9)\n",
            "memory usage: 281.5+ KB\n"
          ]
        }
      ]
    },
    {
      "cell_type": "code",
      "source": [
        "train_data.describe()"
      ],
      "metadata": {
        "colab": {
          "base_uri": "https://localhost:8080/",
          "height": 394
        },
        "id": "gJSITr3Al_T8",
        "outputId": "b9ee80b8-567d-4fc4-fee3-37cf829bc08b"
      },
      "execution_count": 214,
      "outputs": [
        {
          "output_type": "execute_result",
          "data": {
            "text/plain": [
              "              Age    DailyRate  DistanceFromHome    Education  EmployeeCount  \\\n",
              "count  893.000000  1002.000000        934.000000  1029.000000         1029.0   \n",
              "mean    37.930571   800.528942          9.930407     2.892128            1.0   \n",
              "std      9.395978   408.109828          8.421791     1.053541            0.0   \n",
              "min     18.000000   102.000000          1.000000     1.000000            1.0   \n",
              "25%     31.000000   458.250000          2.000000     2.000000            1.0   \n",
              "50%     37.000000   801.500000          8.000000     3.000000            1.0   \n",
              "75%     44.000000  1162.000000         16.000000     4.000000            1.0   \n",
              "max     60.000000  1496.000000         29.000000     5.000000            1.0   \n",
              "\n",
              "       EmployeeNumber  EnvironmentSatisfaction   HourlyRate  JobInvolvement  \\\n",
              "count     1029.000000              1029.000000  1029.000000     1029.000000   \n",
              "mean      1024.367347                 2.683188    66.680272        2.713314   \n",
              "std        606.301635                 1.096829    20.474094        0.710146   \n",
              "min          1.000000                 1.000000    30.000000        1.000000   \n",
              "25%        496.000000                 2.000000    48.000000        2.000000   \n",
              "50%       1019.000000                 3.000000    67.000000        3.000000   \n",
              "75%       1553.000000                 4.000000    84.000000        3.000000   \n",
              "max       2068.000000                 4.000000   100.000000        4.000000   \n",
              "\n",
              "          JobLevel  ...  RelationshipSatisfaction  StandardHours  \\\n",
              "count  1029.000000  ...               1029.000000         1029.0   \n",
              "mean      2.043732  ...                  2.689990           80.0   \n",
              "std       1.118918  ...                  1.077767            0.0   \n",
              "min       1.000000  ...                  1.000000           80.0   \n",
              "25%       1.000000  ...                  2.000000           80.0   \n",
              "50%       2.000000  ...                  3.000000           80.0   \n",
              "75%       3.000000  ...                  4.000000           80.0   \n",
              "max       5.000000  ...                  4.000000           80.0   \n",
              "\n",
              "       StockOptionLevel  TotalWorkingYears  TrainingTimesLastYear  \\\n",
              "count       1029.000000        1029.000000            1029.000000   \n",
              "mean           0.822157          11.196307               2.782313   \n",
              "std            0.874662           7.857581               1.283401   \n",
              "min            0.000000           0.000000               0.000000   \n",
              "25%            0.000000           6.000000               2.000000   \n",
              "50%            1.000000          10.000000               3.000000   \n",
              "75%            1.000000          15.000000               3.000000   \n",
              "max            3.000000          40.000000               6.000000   \n",
              "\n",
              "       WorkLifeBalance  YearsAtCompany  YearsInCurrentRole  \\\n",
              "count      1029.000000     1029.000000         1029.000000   \n",
              "mean          2.748299        6.942663            4.215743   \n",
              "std           0.697278        6.068322            3.658595   \n",
              "min           1.000000        0.000000            0.000000   \n",
              "25%           2.000000        3.000000            2.000000   \n",
              "50%           3.000000        5.000000            3.000000   \n",
              "75%           3.000000       10.000000            7.000000   \n",
              "max           4.000000       37.000000           18.000000   \n",
              "\n",
              "       YearsSinceLastPromotion  YearsWithCurrManager  \n",
              "count              1029.000000           1029.000000  \n",
              "mean                  2.119534              4.005831  \n",
              "std                   3.108651              3.522574  \n",
              "min                   0.000000              0.000000  \n",
              "25%                   0.000000              2.000000  \n",
              "50%                   1.000000              3.000000  \n",
              "75%                   2.000000              7.000000  \n",
              "max                  15.000000             17.000000  \n",
              "\n",
              "[8 rows x 26 columns]"
            ],
            "text/html": [
              "\n",
              "  <div id=\"df-b3200087-d808-4479-ba7e-0a2756dfccf7\">\n",
              "    <div class=\"colab-df-container\">\n",
              "      <div>\n",
              "<style scoped>\n",
              "    .dataframe tbody tr th:only-of-type {\n",
              "        vertical-align: middle;\n",
              "    }\n",
              "\n",
              "    .dataframe tbody tr th {\n",
              "        vertical-align: top;\n",
              "    }\n",
              "\n",
              "    .dataframe thead th {\n",
              "        text-align: right;\n",
              "    }\n",
              "</style>\n",
              "<table border=\"1\" class=\"dataframe\">\n",
              "  <thead>\n",
              "    <tr style=\"text-align: right;\">\n",
              "      <th></th>\n",
              "      <th>Age</th>\n",
              "      <th>DailyRate</th>\n",
              "      <th>DistanceFromHome</th>\n",
              "      <th>Education</th>\n",
              "      <th>EmployeeCount</th>\n",
              "      <th>EmployeeNumber</th>\n",
              "      <th>EnvironmentSatisfaction</th>\n",
              "      <th>HourlyRate</th>\n",
              "      <th>JobInvolvement</th>\n",
              "      <th>JobLevel</th>\n",
              "      <th>...</th>\n",
              "      <th>RelationshipSatisfaction</th>\n",
              "      <th>StandardHours</th>\n",
              "      <th>StockOptionLevel</th>\n",
              "      <th>TotalWorkingYears</th>\n",
              "      <th>TrainingTimesLastYear</th>\n",
              "      <th>WorkLifeBalance</th>\n",
              "      <th>YearsAtCompany</th>\n",
              "      <th>YearsInCurrentRole</th>\n",
              "      <th>YearsSinceLastPromotion</th>\n",
              "      <th>YearsWithCurrManager</th>\n",
              "    </tr>\n",
              "  </thead>\n",
              "  <tbody>\n",
              "    <tr>\n",
              "      <th>count</th>\n",
              "      <td>893.000000</td>\n",
              "      <td>1002.000000</td>\n",
              "      <td>934.000000</td>\n",
              "      <td>1029.000000</td>\n",
              "      <td>1029.0</td>\n",
              "      <td>1029.000000</td>\n",
              "      <td>1029.000000</td>\n",
              "      <td>1029.000000</td>\n",
              "      <td>1029.000000</td>\n",
              "      <td>1029.000000</td>\n",
              "      <td>...</td>\n",
              "      <td>1029.000000</td>\n",
              "      <td>1029.0</td>\n",
              "      <td>1029.000000</td>\n",
              "      <td>1029.000000</td>\n",
              "      <td>1029.000000</td>\n",
              "      <td>1029.000000</td>\n",
              "      <td>1029.000000</td>\n",
              "      <td>1029.000000</td>\n",
              "      <td>1029.000000</td>\n",
              "      <td>1029.000000</td>\n",
              "    </tr>\n",
              "    <tr>\n",
              "      <th>mean</th>\n",
              "      <td>37.930571</td>\n",
              "      <td>800.528942</td>\n",
              "      <td>9.930407</td>\n",
              "      <td>2.892128</td>\n",
              "      <td>1.0</td>\n",
              "      <td>1024.367347</td>\n",
              "      <td>2.683188</td>\n",
              "      <td>66.680272</td>\n",
              "      <td>2.713314</td>\n",
              "      <td>2.043732</td>\n",
              "      <td>...</td>\n",
              "      <td>2.689990</td>\n",
              "      <td>80.0</td>\n",
              "      <td>0.822157</td>\n",
              "      <td>11.196307</td>\n",
              "      <td>2.782313</td>\n",
              "      <td>2.748299</td>\n",
              "      <td>6.942663</td>\n",
              "      <td>4.215743</td>\n",
              "      <td>2.119534</td>\n",
              "      <td>4.005831</td>\n",
              "    </tr>\n",
              "    <tr>\n",
              "      <th>std</th>\n",
              "      <td>9.395978</td>\n",
              "      <td>408.109828</td>\n",
              "      <td>8.421791</td>\n",
              "      <td>1.053541</td>\n",
              "      <td>0.0</td>\n",
              "      <td>606.301635</td>\n",
              "      <td>1.096829</td>\n",
              "      <td>20.474094</td>\n",
              "      <td>0.710146</td>\n",
              "      <td>1.118918</td>\n",
              "      <td>...</td>\n",
              "      <td>1.077767</td>\n",
              "      <td>0.0</td>\n",
              "      <td>0.874662</td>\n",
              "      <td>7.857581</td>\n",
              "      <td>1.283401</td>\n",
              "      <td>0.697278</td>\n",
              "      <td>6.068322</td>\n",
              "      <td>3.658595</td>\n",
              "      <td>3.108651</td>\n",
              "      <td>3.522574</td>\n",
              "    </tr>\n",
              "    <tr>\n",
              "      <th>min</th>\n",
              "      <td>18.000000</td>\n",
              "      <td>102.000000</td>\n",
              "      <td>1.000000</td>\n",
              "      <td>1.000000</td>\n",
              "      <td>1.0</td>\n",
              "      <td>1.000000</td>\n",
              "      <td>1.000000</td>\n",
              "      <td>30.000000</td>\n",
              "      <td>1.000000</td>\n",
              "      <td>1.000000</td>\n",
              "      <td>...</td>\n",
              "      <td>1.000000</td>\n",
              "      <td>80.0</td>\n",
              "      <td>0.000000</td>\n",
              "      <td>0.000000</td>\n",
              "      <td>0.000000</td>\n",
              "      <td>1.000000</td>\n",
              "      <td>0.000000</td>\n",
              "      <td>0.000000</td>\n",
              "      <td>0.000000</td>\n",
              "      <td>0.000000</td>\n",
              "    </tr>\n",
              "    <tr>\n",
              "      <th>25%</th>\n",
              "      <td>31.000000</td>\n",
              "      <td>458.250000</td>\n",
              "      <td>2.000000</td>\n",
              "      <td>2.000000</td>\n",
              "      <td>1.0</td>\n",
              "      <td>496.000000</td>\n",
              "      <td>2.000000</td>\n",
              "      <td>48.000000</td>\n",
              "      <td>2.000000</td>\n",
              "      <td>1.000000</td>\n",
              "      <td>...</td>\n",
              "      <td>2.000000</td>\n",
              "      <td>80.0</td>\n",
              "      <td>0.000000</td>\n",
              "      <td>6.000000</td>\n",
              "      <td>2.000000</td>\n",
              "      <td>2.000000</td>\n",
              "      <td>3.000000</td>\n",
              "      <td>2.000000</td>\n",
              "      <td>0.000000</td>\n",
              "      <td>2.000000</td>\n",
              "    </tr>\n",
              "    <tr>\n",
              "      <th>50%</th>\n",
              "      <td>37.000000</td>\n",
              "      <td>801.500000</td>\n",
              "      <td>8.000000</td>\n",
              "      <td>3.000000</td>\n",
              "      <td>1.0</td>\n",
              "      <td>1019.000000</td>\n",
              "      <td>3.000000</td>\n",
              "      <td>67.000000</td>\n",
              "      <td>3.000000</td>\n",
              "      <td>2.000000</td>\n",
              "      <td>...</td>\n",
              "      <td>3.000000</td>\n",
              "      <td>80.0</td>\n",
              "      <td>1.000000</td>\n",
              "      <td>10.000000</td>\n",
              "      <td>3.000000</td>\n",
              "      <td>3.000000</td>\n",
              "      <td>5.000000</td>\n",
              "      <td>3.000000</td>\n",
              "      <td>1.000000</td>\n",
              "      <td>3.000000</td>\n",
              "    </tr>\n",
              "    <tr>\n",
              "      <th>75%</th>\n",
              "      <td>44.000000</td>\n",
              "      <td>1162.000000</td>\n",
              "      <td>16.000000</td>\n",
              "      <td>4.000000</td>\n",
              "      <td>1.0</td>\n",
              "      <td>1553.000000</td>\n",
              "      <td>4.000000</td>\n",
              "      <td>84.000000</td>\n",
              "      <td>3.000000</td>\n",
              "      <td>3.000000</td>\n",
              "      <td>...</td>\n",
              "      <td>4.000000</td>\n",
              "      <td>80.0</td>\n",
              "      <td>1.000000</td>\n",
              "      <td>15.000000</td>\n",
              "      <td>3.000000</td>\n",
              "      <td>3.000000</td>\n",
              "      <td>10.000000</td>\n",
              "      <td>7.000000</td>\n",
              "      <td>2.000000</td>\n",
              "      <td>7.000000</td>\n",
              "    </tr>\n",
              "    <tr>\n",
              "      <th>max</th>\n",
              "      <td>60.000000</td>\n",
              "      <td>1496.000000</td>\n",
              "      <td>29.000000</td>\n",
              "      <td>5.000000</td>\n",
              "      <td>1.0</td>\n",
              "      <td>2068.000000</td>\n",
              "      <td>4.000000</td>\n",
              "      <td>100.000000</td>\n",
              "      <td>4.000000</td>\n",
              "      <td>5.000000</td>\n",
              "      <td>...</td>\n",
              "      <td>4.000000</td>\n",
              "      <td>80.0</td>\n",
              "      <td>3.000000</td>\n",
              "      <td>40.000000</td>\n",
              "      <td>6.000000</td>\n",
              "      <td>4.000000</td>\n",
              "      <td>37.000000</td>\n",
              "      <td>18.000000</td>\n",
              "      <td>15.000000</td>\n",
              "      <td>17.000000</td>\n",
              "    </tr>\n",
              "  </tbody>\n",
              "</table>\n",
              "<p>8 rows × 26 columns</p>\n",
              "</div>\n",
              "      <button class=\"colab-df-convert\" onclick=\"convertToInteractive('df-b3200087-d808-4479-ba7e-0a2756dfccf7')\"\n",
              "              title=\"Convert this dataframe to an interactive table.\"\n",
              "              style=\"display:none;\">\n",
              "        \n",
              "  <svg xmlns=\"http://www.w3.org/2000/svg\" height=\"24px\"viewBox=\"0 0 24 24\"\n",
              "       width=\"24px\">\n",
              "    <path d=\"M0 0h24v24H0V0z\" fill=\"none\"/>\n",
              "    <path d=\"M18.56 5.44l.94 2.06.94-2.06 2.06-.94-2.06-.94-.94-2.06-.94 2.06-2.06.94zm-11 1L8.5 8.5l.94-2.06 2.06-.94-2.06-.94L8.5 2.5l-.94 2.06-2.06.94zm10 10l.94 2.06.94-2.06 2.06-.94-2.06-.94-.94-2.06-.94 2.06-2.06.94z\"/><path d=\"M17.41 7.96l-1.37-1.37c-.4-.4-.92-.59-1.43-.59-.52 0-1.04.2-1.43.59L10.3 9.45l-7.72 7.72c-.78.78-.78 2.05 0 2.83L4 21.41c.39.39.9.59 1.41.59.51 0 1.02-.2 1.41-.59l7.78-7.78 2.81-2.81c.8-.78.8-2.07 0-2.86zM5.41 20L4 18.59l7.72-7.72 1.47 1.35L5.41 20z\"/>\n",
              "  </svg>\n",
              "      </button>\n",
              "      \n",
              "  <style>\n",
              "    .colab-df-container {\n",
              "      display:flex;\n",
              "      flex-wrap:wrap;\n",
              "      gap: 12px;\n",
              "    }\n",
              "\n",
              "    .colab-df-convert {\n",
              "      background-color: #E8F0FE;\n",
              "      border: none;\n",
              "      border-radius: 50%;\n",
              "      cursor: pointer;\n",
              "      display: none;\n",
              "      fill: #1967D2;\n",
              "      height: 32px;\n",
              "      padding: 0 0 0 0;\n",
              "      width: 32px;\n",
              "    }\n",
              "\n",
              "    .colab-df-convert:hover {\n",
              "      background-color: #E2EBFA;\n",
              "      box-shadow: 0px 1px 2px rgba(60, 64, 67, 0.3), 0px 1px 3px 1px rgba(60, 64, 67, 0.15);\n",
              "      fill: #174EA6;\n",
              "    }\n",
              "\n",
              "    [theme=dark] .colab-df-convert {\n",
              "      background-color: #3B4455;\n",
              "      fill: #D2E3FC;\n",
              "    }\n",
              "\n",
              "    [theme=dark] .colab-df-convert:hover {\n",
              "      background-color: #434B5C;\n",
              "      box-shadow: 0px 1px 3px 1px rgba(0, 0, 0, 0.15);\n",
              "      filter: drop-shadow(0px 1px 2px rgba(0, 0, 0, 0.3));\n",
              "      fill: #FFFFFF;\n",
              "    }\n",
              "  </style>\n",
              "\n",
              "      <script>\n",
              "        const buttonEl =\n",
              "          document.querySelector('#df-b3200087-d808-4479-ba7e-0a2756dfccf7 button.colab-df-convert');\n",
              "        buttonEl.style.display =\n",
              "          google.colab.kernel.accessAllowed ? 'block' : 'none';\n",
              "\n",
              "        async function convertToInteractive(key) {\n",
              "          const element = document.querySelector('#df-b3200087-d808-4479-ba7e-0a2756dfccf7');\n",
              "          const dataTable =\n",
              "            await google.colab.kernel.invokeFunction('convertToInteractive',\n",
              "                                                     [key], {});\n",
              "          if (!dataTable) return;\n",
              "\n",
              "          const docLinkHtml = 'Like what you see? Visit the ' +\n",
              "            '<a target=\"_blank\" href=https://colab.research.google.com/notebooks/data_table.ipynb>data table notebook</a>'\n",
              "            + ' to learn more about interactive tables.';\n",
              "          element.innerHTML = '';\n",
              "          dataTable['output_type'] = 'display_data';\n",
              "          await google.colab.output.renderOutput(dataTable, element);\n",
              "          const docLink = document.createElement('div');\n",
              "          docLink.innerHTML = docLinkHtml;\n",
              "          element.appendChild(docLink);\n",
              "        }\n",
              "      </script>\n",
              "    </div>\n",
              "  </div>\n",
              "  "
            ]
          },
          "metadata": {},
          "execution_count": 214
        }
      ]
    },
    {
      "cell_type": "code",
      "source": [
        "#How many unique values are present in each column\n",
        "features= train_data.columns\n",
        "print(\"Number of unique values are as below:\\n\")\n",
        "for i in features:\n",
        "  uniqueValues=train_data[i].nunique()\n",
        "  print(i,uniqueValues)"
      ],
      "metadata": {
        "colab": {
          "base_uri": "https://localhost:8080/"
        },
        "id": "oc59AMc2_YpS",
        "outputId": "32b94840-36e3-48d5-844d-c04b55617560"
      },
      "execution_count": 215,
      "outputs": [
        {
          "output_type": "stream",
          "name": "stdout",
          "text": [
            "Number of unique values are as below:\n",
            "\n",
            "Age 39\n",
            "Attrition 2\n",
            "BusinessTravel 3\n",
            "DailyRate 692\n",
            "Department 3\n",
            "DistanceFromHome 27\n",
            "Education 5\n",
            "EducationField 6\n",
            "EmployeeCount 1\n",
            "EmployeeNumber 1029\n",
            "EnvironmentSatisfaction 4\n",
            "Gender 2\n",
            "HourlyRate 71\n",
            "JobInvolvement 4\n",
            "JobLevel 5\n",
            "JobRole 9\n",
            "JobSatisfaction 4\n",
            "MaritalStatus 3\n",
            "MonthlyIncome 963\n",
            "MonthlyRate 1010\n",
            "NumCompaniesWorked 10\n",
            "Over18 1\n",
            "OverTime 2\n",
            "PercentSalaryHike 15\n",
            "PerformanceRating 2\n",
            "RelationshipSatisfaction 4\n",
            "StandardHours 1\n",
            "StockOptionLevel 4\n",
            "TotalWorkingYears 40\n",
            "TrainingTimesLastYear 7\n",
            "WorkLifeBalance 4\n",
            "YearsAtCompany 32\n",
            "YearsInCurrentRole 19\n",
            "YearsSinceLastPromotion 16\n",
            "YearsWithCurrManager 17\n"
          ]
        }
      ]
    },
    {
      "cell_type": "markdown",
      "source": [
        "Result:\n",
        "\n",
        "Below columns are not useful be cause they are having single unique value which does not give any useful information for prediction. Hence they can be dropped\n",
        "\n",
        "1) EmployeeCount\n",
        "2) Over18\n",
        "3) StandardHours\n",
        "4) EmployeeNumber "
      ],
      "metadata": {
        "id": "Z6TzRp-1nI6q"
      }
    },
    {
      "cell_type": "code",
      "source": [
        "train_data.drop(columns=['EmployeeCount','Over18','StandardHours','EmployeeNumber'],inplace=True,axis=1)"
      ],
      "metadata": {
        "id": "4Fya7rozm__h"
      },
      "execution_count": 216,
      "outputs": []
    },
    {
      "cell_type": "code",
      "source": [
        "train_data['Age'] = train_data['Age'].fillna(train_data['Age'].mean())\n",
        "train_data['DailyRate'] = train_data['DailyRate'].fillna(train_data['DailyRate'].mean())\n",
        "train_data['BusinessTravel'] = train_data['BusinessTravel'].fillna('Travel_Rarely')\n",
        "train_data['DistanceFromHome'] = train_data['DistanceFromHome'].fillna(train_data['DistanceFromHome'].mean())\n",
        "train_data['MaritalStatus'] = train_data['MaritalStatus'].fillna('Married')\n",
        "train_data.info()"
      ],
      "metadata": {
        "colab": {
          "base_uri": "https://localhost:8080/"
        },
        "id": "6V6r5wVO_nYL",
        "outputId": "21aabe8e-bdf9-4f90-b925-3026cf7c19e6"
      },
      "execution_count": 217,
      "outputs": [
        {
          "output_type": "stream",
          "name": "stdout",
          "text": [
            "<class 'pandas.core.frame.DataFrame'>\n",
            "RangeIndex: 1029 entries, 0 to 1028\n",
            "Data columns (total 31 columns):\n",
            " #   Column                    Non-Null Count  Dtype  \n",
            "---  ------                    --------------  -----  \n",
            " 0   Age                       1029 non-null   float64\n",
            " 1   Attrition                 1029 non-null   object \n",
            " 2   BusinessTravel            1029 non-null   object \n",
            " 3   DailyRate                 1029 non-null   float64\n",
            " 4   Department                1029 non-null   object \n",
            " 5   DistanceFromHome          1029 non-null   float64\n",
            " 6   Education                 1029 non-null   int64  \n",
            " 7   EducationField            1029 non-null   object \n",
            " 8   EnvironmentSatisfaction   1029 non-null   int64  \n",
            " 9   Gender                    1029 non-null   object \n",
            " 10  HourlyRate                1029 non-null   int64  \n",
            " 11  JobInvolvement            1029 non-null   int64  \n",
            " 12  JobLevel                  1029 non-null   int64  \n",
            " 13  JobRole                   1029 non-null   object \n",
            " 14  JobSatisfaction           1029 non-null   int64  \n",
            " 15  MaritalStatus             1029 non-null   object \n",
            " 16  MonthlyIncome             1029 non-null   int64  \n",
            " 17  MonthlyRate               1029 non-null   int64  \n",
            " 18  NumCompaniesWorked        1029 non-null   int64  \n",
            " 19  OverTime                  1029 non-null   object \n",
            " 20  PercentSalaryHike         1029 non-null   int64  \n",
            " 21  PerformanceRating         1029 non-null   int64  \n",
            " 22  RelationshipSatisfaction  1029 non-null   int64  \n",
            " 23  StockOptionLevel          1029 non-null   int64  \n",
            " 24  TotalWorkingYears         1029 non-null   int64  \n",
            " 25  TrainingTimesLastYear     1029 non-null   int64  \n",
            " 26  WorkLifeBalance           1029 non-null   int64  \n",
            " 27  YearsAtCompany            1029 non-null   int64  \n",
            " 28  YearsInCurrentRole        1029 non-null   int64  \n",
            " 29  YearsSinceLastPromotion   1029 non-null   int64  \n",
            " 30  YearsWithCurrManager      1029 non-null   int64  \n",
            "dtypes: float64(3), int64(20), object(8)\n",
            "memory usage: 249.3+ KB\n"
          ]
        }
      ]
    },
    {
      "cell_type": "code",
      "source": [
        "x = train_data.drop(['Attrition'],axis = 1)\n",
        "y = train_data['Attrition']"
      ],
      "metadata": {
        "id": "9ydRMhBVH_mf"
      },
      "execution_count": 218,
      "outputs": []
    },
    {
      "cell_type": "code",
      "source": [
        "encoder = LabelEncoder()\n",
        "y_train = encoder.fit_transform(y)\n",
        "y_train"
      ],
      "metadata": {
        "colab": {
          "base_uri": "https://localhost:8080/"
        },
        "id": "ojAozMraR0wU",
        "outputId": "32061a5a-f04a-4f19-95b7-1ac4a00f6a2b"
      },
      "execution_count": 219,
      "outputs": [
        {
          "output_type": "execute_result",
          "data": {
            "text/plain": [
              "array([0, 0, 1, ..., 1, 0, 0])"
            ]
          },
          "metadata": {},
          "execution_count": 219
        }
      ]
    },
    {
      "cell_type": "code",
      "source": [
        "# Define the categorical columns\n",
        "categorical_columns = ['BusinessTravel','Department','EducationField','Gender','JobRole','MaritalStatus','OverTime']\n",
        "numerical_columns = ['Age', 'DailyRate', 'DistanceFromHome', 'Education', 'EnvironmentSatisfaction', 'HourlyRate', 'JobLevel', 'JobSatisfaction', 'MonthlyIncome',\n",
        "                     'MonthlyRate', 'NumCompaniesWorked', 'PercentSalaryHike', 'PerformanceRating', 'RelationshipSatisfaction', 'StockOptionLevel', 'TotalWorkingYears',\n",
        "                     'TrainingTimesLastYear', 'WorkLifeBalance', 'YearsAtCompany', 'YearsInCurrentRole', 'YearsSinceLastPromotion', 'YearsWithCurrManager']"
      ],
      "metadata": {
        "id": "TOOaU7mYBHje"
      },
      "execution_count": 220,
      "outputs": []
    },
    {
      "cell_type": "code",
      "source": [
        "preprocessor = make_column_transformer(\n",
        "    (OneHotEncoder(), categorical_columns),\n",
        "    (StandardScaler(), numerical_columns)\n",
        ")"
      ],
      "metadata": {
        "id": "tlruyEc8JHLW"
      },
      "execution_count": 221,
      "outputs": []
    },
    {
      "cell_type": "code",
      "source": [
        "pipeline = make_pipeline(preprocessor)\n",
        "encoded_x_train = pipeline.fit_transform(x)"
      ],
      "metadata": {
        "id": "fYjYQvfvN5qh"
      },
      "execution_count": 222,
      "outputs": []
    },
    {
      "cell_type": "code",
      "source": [
        "#Split the data into training and test sets (its actually the validation set but I wrote test first and don't want to change it :=) )\n",
        "X_train, X_test, y_train, y_test = train_test_split(encoded_x_train, y_train, test_size=0.2, random_state=42)"
      ],
      "metadata": {
        "id": "UsAW5Ot5T9JI"
      },
      "execution_count": 223,
      "outputs": []
    },
    {
      "cell_type": "code",
      "source": [
        "#Tuning function for all models\n",
        "\n",
        "def Tuning(estimator,parameters):\n",
        "    grid_model = GridSearchCV(estimator,param_grid = parameters,cv = 5)\n",
        "    grid_model.fit(X_train,y_train)\n",
        "    print(grid_model.best_params_)\n",
        "    print(grid_model.best_score_)\n",
        "    return grid_model.best_estimator_"
      ],
      "metadata": {
        "id": "TWY-NwjKyvNE"
      },
      "execution_count": 273,
      "outputs": []
    },
    {
      "cell_type": "code",
      "source": [
        "#Training a Random Forest Classifier\n",
        "rf = RandomForestClassifier()\n",
        "\n",
        "# Define the parameter grid\n",
        "param_grid = {\n",
        "    'n_estimators': [100,300,500],\n",
        "    'min_samples_split': [2,4,6],\n",
        "    'criterion' : [\"gini\"]\n",
        "}"
      ],
      "metadata": {
        "id": "h2RGVxOJSemS"
      },
      "execution_count": 225,
      "outputs": []
    },
    {
      "cell_type": "code",
      "source": [
        "rf = Tuning(rf,param_grid)"
      ],
      "metadata": {
        "colab": {
          "base_uri": "https://localhost:8080/"
        },
        "id": "4gcwvUt-ppjy",
        "outputId": "c9bef27f-1a9e-44f6-cf8a-eebe7513d925"
      },
      "execution_count": 226,
      "outputs": [
        {
          "output_type": "stream",
          "name": "stdout",
          "text": [
            "{'criterion': 'gini', 'min_samples_split': 2, 'n_estimators': 300}\n"
          ]
        }
      ]
    },
    {
      "cell_type": "code",
      "source": [
        "rf_pred = rf.predict(X_test)\n",
        "rf_accuracy = accuracy_score(y_test, rf_pred)\n",
        "rf_precision = precision_score(y_test, rf_pred)\n",
        "print(\"Random Forest Accuracy:\", rf_accuracy)\n",
        "print(\"Random Forest Precision:\", rf_precision)"
      ],
      "metadata": {
        "colab": {
          "base_uri": "https://localhost:8080/"
        },
        "id": "yp1GBbhXUZ76",
        "outputId": "893b3e32-5de1-496c-b0c2-ac1d9a741f4b"
      },
      "execution_count": 227,
      "outputs": [
        {
          "output_type": "stream",
          "name": "stdout",
          "text": [
            "Random Forest Accuracy: 0.8737864077669902\n",
            "Random Forest Precision: 0.8461538461538461\n"
          ]
        }
      ]
    },
    {
      "cell_type": "code",
      "source": [
        "#Training a Logistic Regression model\n",
        "knn = KNeighborsClassifier()\n",
        "param_grid = {\n",
        "    'n_neighbors': [5, 7, 9, 10],  \n",
        "    'weights': ['uniform', 'distance'],  \n",
        "    'algorithm': ['auto', 'ball_tree', 'kd_tree', 'brute'], \n",
        "    'p': [1, 2]  \n",
        "}"
      ],
      "metadata": {
        "id": "g5hI7ow5U0ov"
      },
      "execution_count": 310,
      "outputs": []
    },
    {
      "cell_type": "code",
      "source": [
        "knn = Tuning(knn, param_grid)"
      ],
      "metadata": {
        "colab": {
          "base_uri": "https://localhost:8080/"
        },
        "id": "mx2fr3d59KXs",
        "outputId": "3d642e17-ac8a-42d5-ea74-1e44a50e49ce"
      },
      "execution_count": 311,
      "outputs": [
        {
          "output_type": "stream",
          "name": "stdout",
          "text": [
            "{'algorithm': 'auto', 'n_neighbors': 9, 'p': 1, 'weights': 'uniform'}\n",
            "0.8396008869179601\n"
          ]
        }
      ]
    },
    {
      "cell_type": "code",
      "source": [
        "knn_pred = knn.predict(X_test)\n",
        "knn_accuracy = accuracy_score(y_test, knn_pred)\n",
        "knn_precision = precision_score(y_test, knn_pred)\n",
        "print(\"KNN Accuracy:\", knn_accuracy)\n",
        "print(\"KNN Precision:\", knn_precision)"
      ],
      "metadata": {
        "colab": {
          "base_uri": "https://localhost:8080/"
        },
        "id": "FONyCc9kVOy0",
        "outputId": "a535992b-3fa5-45ef-b1d3-2a5c523d04ba"
      },
      "execution_count": 312,
      "outputs": [
        {
          "output_type": "stream",
          "name": "stdout",
          "text": [
            "KNN Accuracy: 0.8543689320388349\n",
            "KNN Precision: 0.8571428571428571\n"
          ]
        }
      ]
    },
    {
      "cell_type": "code",
      "source": [
        "#Training a SVM model\n",
        "support_vector = svm.SVC()\n",
        "param_grid = {\n",
        "    'C': [0.1, 0.5, 1, 10],  \n",
        "    'kernel': ['rbf','poly'],  \n",
        "    'gamma': ['scale', 'auto'],\n",
        "    'probability' : [True]\n",
        "}"
      ],
      "metadata": {
        "id": "mxcvMz25gUYW"
      },
      "execution_count": 323,
      "outputs": []
    },
    {
      "cell_type": "code",
      "source": [
        "support_vector = Tuning(support_vector, param_grid)"
      ],
      "metadata": {
        "colab": {
          "base_uri": "https://localhost:8080/"
        },
        "id": "kOnAYm3G9g8V",
        "outputId": "6c1417c5-a9ca-43a1-bdde-1d0b9c82e466"
      },
      "execution_count": 324,
      "outputs": [
        {
          "output_type": "stream",
          "name": "stdout",
          "text": [
            "{'C': 1, 'gamma': 'scale', 'kernel': 'rbf', 'probability': True}\n",
            "0.842039911308204\n"
          ]
        }
      ]
    },
    {
      "cell_type": "code",
      "source": [
        "support_vector_pred = support_vector.predict(X_test)\n",
        "support_vector_accuracy = accuracy_score(y_test, support_vector_pred)\n",
        "support_vector_precision = precision_score(y_test, support_vector_pred)\n",
        "print(\"SVM Accuracy:\", support_vector_accuracy)\n",
        "print(\"SVM Precision:\", support_vector_precision)"
      ],
      "metadata": {
        "colab": {
          "base_uri": "https://localhost:8080/"
        },
        "id": "o_dYtVdXgw89",
        "outputId": "8e96070b-3664-427f-802d-3865b903c933"
      },
      "execution_count": 325,
      "outputs": [
        {
          "output_type": "stream",
          "name": "stdout",
          "text": [
            "SVM Accuracy: 0.8737864077669902\n",
            "SVM Precision: 0.9090909090909091\n"
          ]
        }
      ]
    },
    {
      "cell_type": "code",
      "source": [
        "#Training a AdaBoost model\n",
        "adaboost = AdaBoostClassifier()\n",
        "param_grid = {\n",
        "    'n_estimators': [50, 100, 200, 400],\n",
        "    'learning_rate': [0.1, 0.5, 1.0],  \n",
        "    'estimator': [None, DecisionTreeClassifier(max_depth=3)] \n",
        "}"
      ],
      "metadata": {
        "id": "z1_vLOg7iObD"
      },
      "execution_count": 313,
      "outputs": []
    },
    {
      "cell_type": "code",
      "source": [
        "adaboost = Tuning(adaboost, param_grid)"
      ],
      "metadata": {
        "colab": {
          "base_uri": "https://localhost:8080/"
        },
        "id": "CB-F9Ir-IUOj",
        "outputId": "8d18b157-31bc-417d-f983-c4545cea7137"
      },
      "execution_count": 314,
      "outputs": [
        {
          "output_type": "stream",
          "name": "stdout",
          "text": [
            "{'estimator': None, 'learning_rate': 0.1, 'n_estimators': 200}\n",
            "0.8566518847006652\n"
          ]
        }
      ]
    },
    {
      "cell_type": "code",
      "source": [
        "adaboost_pred = adaboost.predict(X_test)\n",
        "adaboost_accuracy = accuracy_score(y_test, adaboost_pred)\n",
        "adaboost_precision = precision_score(y_test, adaboost_pred)\n",
        "print(\"Adaboost Accuracy:\", adaboost_accuracy)\n",
        "print(\"Adaboost Precision:\", adaboost_precision)"
      ],
      "metadata": {
        "colab": {
          "base_uri": "https://localhost:8080/"
        },
        "id": "pZBJGpZKlvZB",
        "outputId": "1e7c875f-5910-4bb9-ea3f-e862cb6deb0a"
      },
      "execution_count": 315,
      "outputs": [
        {
          "output_type": "stream",
          "name": "stdout",
          "text": [
            "Adaboost Accuracy: 0.8737864077669902\n",
            "Adaboost Precision: 0.9090909090909091\n"
          ]
        }
      ]
    },
    {
      "cell_type": "code",
      "source": [
        "#Creating a Voting Classifier\n",
        "\n",
        "voting_clf = VotingClassifier(estimators=[\n",
        "    ('random_forest', rf),\n",
        "    ('knn', knn),\n",
        "    ('adaboost', adaboost),\n",
        "    ('svm', support_vector)],\n",
        "    voting = 'hard'\n",
        "    )"
      ],
      "metadata": {
        "id": "M6sWqNnLmbKa"
      },
      "execution_count": 334,
      "outputs": []
    },
    {
      "cell_type": "code",
      "source": [
        "voting_clf.fit(X_train, y_train)"
      ],
      "metadata": {
        "colab": {
          "base_uri": "https://localhost:8080/",
          "height": 110
        },
        "id": "NPm1mtxkmrF2",
        "outputId": "4250a2ff-d73c-4e4c-a132-89c4cf82fb4d"
      },
      "execution_count": 335,
      "outputs": [
        {
          "output_type": "execute_result",
          "data": {
            "text/plain": [
              "VotingClassifier(estimators=[('random_forest',\n",
              "                              RandomForestClassifier(n_estimators=300)),\n",
              "                             ('knn', KNeighborsClassifier(n_neighbors=9, p=1)),\n",
              "                             ('adaboost',\n",
              "                              AdaBoostClassifier(learning_rate=0.1,\n",
              "                                                 n_estimators=200)),\n",
              "                             ('svm', SVC(C=1, probability=True))])"
            ],
            "text/html": [
              "<style>#sk-container-id-25 {color: black;background-color: white;}#sk-container-id-25 pre{padding: 0;}#sk-container-id-25 div.sk-toggleable {background-color: white;}#sk-container-id-25 label.sk-toggleable__label {cursor: pointer;display: block;width: 100%;margin-bottom: 0;padding: 0.3em;box-sizing: border-box;text-align: center;}#sk-container-id-25 label.sk-toggleable__label-arrow:before {content: \"▸\";float: left;margin-right: 0.25em;color: #696969;}#sk-container-id-25 label.sk-toggleable__label-arrow:hover:before {color: black;}#sk-container-id-25 div.sk-estimator:hover label.sk-toggleable__label-arrow:before {color: black;}#sk-container-id-25 div.sk-toggleable__content {max-height: 0;max-width: 0;overflow: hidden;text-align: left;background-color: #f0f8ff;}#sk-container-id-25 div.sk-toggleable__content pre {margin: 0.2em;color: black;border-radius: 0.25em;background-color: #f0f8ff;}#sk-container-id-25 input.sk-toggleable__control:checked~div.sk-toggleable__content {max-height: 200px;max-width: 100%;overflow: auto;}#sk-container-id-25 input.sk-toggleable__control:checked~label.sk-toggleable__label-arrow:before {content: \"▾\";}#sk-container-id-25 div.sk-estimator input.sk-toggleable__control:checked~label.sk-toggleable__label {background-color: #d4ebff;}#sk-container-id-25 div.sk-label input.sk-toggleable__control:checked~label.sk-toggleable__label {background-color: #d4ebff;}#sk-container-id-25 input.sk-hidden--visually {border: 0;clip: rect(1px 1px 1px 1px);clip: rect(1px, 1px, 1px, 1px);height: 1px;margin: -1px;overflow: hidden;padding: 0;position: absolute;width: 1px;}#sk-container-id-25 div.sk-estimator {font-family: monospace;background-color: #f0f8ff;border: 1px dotted black;border-radius: 0.25em;box-sizing: border-box;margin-bottom: 0.5em;}#sk-container-id-25 div.sk-estimator:hover {background-color: #d4ebff;}#sk-container-id-25 div.sk-parallel-item::after {content: \"\";width: 100%;border-bottom: 1px solid gray;flex-grow: 1;}#sk-container-id-25 div.sk-label:hover label.sk-toggleable__label {background-color: #d4ebff;}#sk-container-id-25 div.sk-serial::before {content: \"\";position: absolute;border-left: 1px solid gray;box-sizing: border-box;top: 0;bottom: 0;left: 50%;z-index: 0;}#sk-container-id-25 div.sk-serial {display: flex;flex-direction: column;align-items: center;background-color: white;padding-right: 0.2em;padding-left: 0.2em;position: relative;}#sk-container-id-25 div.sk-item {position: relative;z-index: 1;}#sk-container-id-25 div.sk-parallel {display: flex;align-items: stretch;justify-content: center;background-color: white;position: relative;}#sk-container-id-25 div.sk-item::before, #sk-container-id-25 div.sk-parallel-item::before {content: \"\";position: absolute;border-left: 1px solid gray;box-sizing: border-box;top: 0;bottom: 0;left: 50%;z-index: -1;}#sk-container-id-25 div.sk-parallel-item {display: flex;flex-direction: column;z-index: 1;position: relative;background-color: white;}#sk-container-id-25 div.sk-parallel-item:first-child::after {align-self: flex-end;width: 50%;}#sk-container-id-25 div.sk-parallel-item:last-child::after {align-self: flex-start;width: 50%;}#sk-container-id-25 div.sk-parallel-item:only-child::after {width: 0;}#sk-container-id-25 div.sk-dashed-wrapped {border: 1px dashed gray;margin: 0 0.4em 0.5em 0.4em;box-sizing: border-box;padding-bottom: 0.4em;background-color: white;}#sk-container-id-25 div.sk-label label {font-family: monospace;font-weight: bold;display: inline-block;line-height: 1.2em;}#sk-container-id-25 div.sk-label-container {text-align: center;}#sk-container-id-25 div.sk-container {/* jupyter's `normalize.less` sets `[hidden] { display: none; }` but bootstrap.min.css set `[hidden] { display: none !important; }` so we also need the `!important` here to be able to override the default hidden behavior on the sphinx rendered scikit-learn.org. See: https://github.com/scikit-learn/scikit-learn/issues/21755 */display: inline-block !important;position: relative;}#sk-container-id-25 div.sk-text-repr-fallback {display: none;}</style><div id=\"sk-container-id-25\" class=\"sk-top-container\"><div class=\"sk-text-repr-fallback\"><pre>VotingClassifier(estimators=[(&#x27;random_forest&#x27;,\n",
              "                              RandomForestClassifier(n_estimators=300)),\n",
              "                             (&#x27;knn&#x27;, KNeighborsClassifier(n_neighbors=9, p=1)),\n",
              "                             (&#x27;adaboost&#x27;,\n",
              "                              AdaBoostClassifier(learning_rate=0.1,\n",
              "                                                 n_estimators=200)),\n",
              "                             (&#x27;svm&#x27;, SVC(C=1, probability=True))])</pre><b>In a Jupyter environment, please rerun this cell to show the HTML representation or trust the notebook. <br />On GitHub, the HTML representation is unable to render, please try loading this page with nbviewer.org.</b></div><div class=\"sk-container\" hidden><div class=\"sk-item sk-dashed-wrapped\"><div class=\"sk-label-container\"><div class=\"sk-label sk-toggleable\"><input class=\"sk-toggleable__control sk-hidden--visually\" id=\"sk-estimator-id-57\" type=\"checkbox\" ><label for=\"sk-estimator-id-57\" class=\"sk-toggleable__label sk-toggleable__label-arrow\">VotingClassifier</label><div class=\"sk-toggleable__content\"><pre>VotingClassifier(estimators=[(&#x27;random_forest&#x27;,\n",
              "                              RandomForestClassifier(n_estimators=300)),\n",
              "                             (&#x27;knn&#x27;, KNeighborsClassifier(n_neighbors=9, p=1)),\n",
              "                             (&#x27;adaboost&#x27;,\n",
              "                              AdaBoostClassifier(learning_rate=0.1,\n",
              "                                                 n_estimators=200)),\n",
              "                             (&#x27;svm&#x27;, SVC(C=1, probability=True))])</pre></div></div></div><div class=\"sk-parallel\"><div class=\"sk-parallel-item\"><div class=\"sk-item\"><div class=\"sk-label-container\"><div class=\"sk-label sk-toggleable\"><label>random_forest</label></div></div><div class=\"sk-serial\"><div class=\"sk-item\"><div class=\"sk-estimator sk-toggleable\"><input class=\"sk-toggleable__control sk-hidden--visually\" id=\"sk-estimator-id-58\" type=\"checkbox\" ><label for=\"sk-estimator-id-58\" class=\"sk-toggleable__label sk-toggleable__label-arrow\">RandomForestClassifier</label><div class=\"sk-toggleable__content\"><pre>RandomForestClassifier(n_estimators=300)</pre></div></div></div></div></div></div><div class=\"sk-parallel-item\"><div class=\"sk-item\"><div class=\"sk-label-container\"><div class=\"sk-label sk-toggleable\"><label>knn</label></div></div><div class=\"sk-serial\"><div class=\"sk-item\"><div class=\"sk-estimator sk-toggleable\"><input class=\"sk-toggleable__control sk-hidden--visually\" id=\"sk-estimator-id-59\" type=\"checkbox\" ><label for=\"sk-estimator-id-59\" class=\"sk-toggleable__label sk-toggleable__label-arrow\">KNeighborsClassifier</label><div class=\"sk-toggleable__content\"><pre>KNeighborsClassifier(n_neighbors=9, p=1)</pre></div></div></div></div></div></div><div class=\"sk-parallel-item\"><div class=\"sk-item\"><div class=\"sk-label-container\"><div class=\"sk-label sk-toggleable\"><label>adaboost</label></div></div><div class=\"sk-serial\"><div class=\"sk-item\"><div class=\"sk-estimator sk-toggleable\"><input class=\"sk-toggleable__control sk-hidden--visually\" id=\"sk-estimator-id-60\" type=\"checkbox\" ><label for=\"sk-estimator-id-60\" class=\"sk-toggleable__label sk-toggleable__label-arrow\">AdaBoostClassifier</label><div class=\"sk-toggleable__content\"><pre>AdaBoostClassifier(learning_rate=0.1, n_estimators=200)</pre></div></div></div></div></div></div><div class=\"sk-parallel-item\"><div class=\"sk-item\"><div class=\"sk-label-container\"><div class=\"sk-label sk-toggleable\"><label>svm</label></div></div><div class=\"sk-serial\"><div class=\"sk-item\"><div class=\"sk-estimator sk-toggleable\"><input class=\"sk-toggleable__control sk-hidden--visually\" id=\"sk-estimator-id-61\" type=\"checkbox\" ><label for=\"sk-estimator-id-61\" class=\"sk-toggleable__label sk-toggleable__label-arrow\">SVC</label><div class=\"sk-toggleable__content\"><pre>SVC(C=1, probability=True)</pre></div></div></div></div></div></div></div></div></div></div>"
            ]
          },
          "metadata": {},
          "execution_count": 335
        }
      ]
    },
    {
      "cell_type": "code",
      "source": [
        "y_pred = voting_clf.predict(X_test)\n",
        "voting_accuracy = accuracy_score(y_test, y_pred)\n",
        "voting_precision = precision_score(y_test, y_pred)\n",
        "print(\"Voting Accuracy:\", voting_accuracy)\n",
        "print(\"Voting Precision:\", voting_precision)"
      ],
      "metadata": {
        "colab": {
          "base_uri": "https://localhost:8080/"
        },
        "id": "zJV_k6cBmtz1",
        "outputId": "a23286aa-eb8b-489d-8f16-af01844e5420"
      },
      "execution_count": 336,
      "outputs": [
        {
          "output_type": "stream",
          "name": "stdout",
          "text": [
            "Voting Accuracy: 0.8640776699029126\n",
            "Voting Precision: 1.0\n"
          ]
        }
      ]
    },
    {
      "cell_type": "code",
      "source": [
        "accuracies = [rf_accuracy, knn_accuracy, support_vector_accuracy, adaboost_accuracy, voting_accuracy]\n",
        "precisions = [rf_precision, knn_precision, support_vector_precision, adaboost_precision, voting_precision]\n",
        "models = ['Random Forest','KNN', 'SVM', 'AdaBoost', 'Voting Classifier']"
      ],
      "metadata": {
        "id": "UFgvoNc2L7jn"
      },
      "execution_count": 344,
      "outputs": []
    },
    {
      "cell_type": "code",
      "source": [
        "bar_width = 0.35  # Width of each bar\n",
        "index = np.arange(len(models))  # Index for the x-axis\n",
        "\n",
        "# Plotting the histogram\n",
        "plt.figure(figsize=(10, 6))\n",
        "plt.bar(index, accuracies, color='b', width=bar_width, label='Accuracy')\n",
        "plt.bar(index + bar_width, precisions, color='r', width=bar_width, alpha=0.5, label='Precision')\n",
        "\n",
        "plt.xlabel('Models')\n",
        "plt.ylabel('Scores')\n",
        "plt.title('Accuracy and Precision Scores of Trained Models')\n",
        "plt.legend()\n",
        "\n",
        "plt.xticks(index + bar_width/2, models, rotation=45)  # Rotate x-axis labels for better readability\n",
        "plt.tight_layout()  # Adjust spacing\n",
        "\n",
        "plt.show()"
      ],
      "metadata": {
        "colab": {
          "base_uri": "https://localhost:8080/",
          "height": 607
        },
        "id": "HqEuuNB9Mxzs",
        "outputId": "914c49a6-c5d7-42fb-9185-768d2cfc0cdd"
      },
      "execution_count": 346,
      "outputs": [
        {
          "output_type": "display_data",
          "data": {
            "text/plain": [
              "<Figure size 1000x600 with 1 Axes>"
            ],
            "image/png": "[encoded data removed]"
          },
          "metadata": {}
        }
      ]
    }
  ]
}